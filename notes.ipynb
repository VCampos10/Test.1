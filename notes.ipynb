{
 "cells": [
  {
   "cell_type": "code",
   "execution_count": 1,
   "metadata": {},
   "outputs": [
    {
     "name": "stdout",
     "output_type": "stream",
     "text": [
      "92 38 24 4 56 16 94 32 78 87 The total is         10\n"
     ]
    }
   ],
   "source": [
    "import random\n",
    "i = 0; cnt = 0\n",
    "while ( i < 10):\n",
    "    rdnum = random.randint(0,100)\n",
    "    print(rdnum, end = ' ')\n",
    "    if (rdnum >= 0) and (rdnum <= 100):\n",
    "        cnt += 1\n",
    "    i += 1\n",
    "print(f'The total is {cnt:10d}')"
   ]
  },
  {
   "cell_type": "code",
   "execution_count": 5,
   "metadata": {},
   "outputs": [
    {
     "name": "stdout",
     "output_type": "stream",
     "text": [
      "0\n",
      "1\n",
      "2\n",
      "3\n",
      "4\n"
     ]
    }
   ],
   "source": [
    "for num in range (5):\n",
    "    print (num)"
   ]
  },
  {
   "cell_type": "code",
   "execution_count": 9,
   "metadata": {},
   "outputs": [
    {
     "name": "stdout",
     "output_type": "stream",
     "text": [
      "[0, 1, 2, 3, 4]\n"
     ]
    }
   ],
   "source": [
    "lst = list(range(5))\n",
    "print(lst)"
   ]
  },
  {
   "cell_type": "code",
   "execution_count": 13,
   "metadata": {},
   "outputs": [
    {
     "name": "stdout",
     "output_type": "stream",
     "text": [
      "0 2 4 "
     ]
    }
   ],
   "source": [
    "for i in range(0, 5, 2):\n",
    "    print (i, end = ' ')"
   ]
  },
  {
   "cell_type": "code",
   "execution_count": 20,
   "metadata": {},
   "outputs": [
    {
     "name": "stdout",
     "output_type": "stream",
     "text": [
      "10 12 14 16 18 20 "
     ]
    }
   ],
   "source": [
    "for i in range(10,21, 2):\n",
    "    print (i, end = ' ')"
   ]
  },
  {
   "cell_type": "code",
   "execution_count": 23,
   "metadata": {},
   "outputs": [],
   "source": [
    "for i in range (20, 2):\n",
    "    print (i, end  = ' ')"
   ]
  },
  {
   "cell_type": "code",
   "execution_count": 24,
   "metadata": {},
   "outputs": [
    {
     "name": "stdout",
     "output_type": "stream",
     "text": [
      "loop executed\n",
      "loop executed\n",
      "loop executed\n",
      "loop executed\n",
      "loop executed\n"
     ]
    }
   ],
   "source": [
    "for _ in range(5):\n",
    "    print('loop executed')"
   ]
  },
  {
   "cell_type": "code",
   "execution_count": 29,
   "metadata": {},
   "outputs": [
    {
     "name": "stdout",
     "output_type": "stream",
     "text": [
      "10\n",
      "5\n",
      "20\n",
      "25\n",
      "30\n"
     ]
    }
   ],
   "source": [
    "mylst = [10, 5, 20, 25, 30]\n",
    "for i in mylst:\n",
    "    print(i)"
   ]
  },
  {
   "cell_type": "code",
   "execution_count": 30,
   "metadata": {},
   "outputs": [
    {
     "data": {
      "text/plain": [
       "30"
      ]
     },
     "execution_count": 30,
     "metadata": {},
     "output_type": "execute_result"
    }
   ],
   "source": [
    "# basic concept of the list data type\n",
    "\n",
    "mylst = [10, 20, 30, 40, 50]\n",
    "\n",
    "mylst[2]"
   ]
  },
  {
   "cell_type": "code",
   "execution_count": 32,
   "metadata": {},
   "outputs": [
    {
     "name": "stdout",
     "output_type": "stream",
     "text": [
      "10 20 30 40 50 10 20 30 40 50 "
     ]
    }
   ],
   "source": [
    "for v in mylst:\n",
    "    print (v, end = ' ')\n",
    "\n",
    "for i in range (5):\n",
    "    print (mylst[i], end= ' ')"
   ]
  },
  {
   "cell_type": "code",
   "execution_count": 36,
   "metadata": {},
   "outputs": [
    {
     "name": "stdout",
     "output_type": "stream",
     "text": [
      "[70, 67, 31, 34, 79]\n"
     ]
    }
   ],
   "source": [
    "# Generate 5 random numbers\n",
    "# assign them into the list rdnums\n",
    "rdnum = [0,0,0,0,0]\n",
    "for i in range(5):\n",
    "    rdnum[i] = random.randint(0,100)\n",
    "print (rdnum)"
   ]
  },
  {
   "cell_type": "code",
   "execution_count": 38,
   "metadata": {},
   "outputs": [
    {
     "name": "stdout",
     "output_type": "stream",
     "text": [
      "Total is  281\n"
     ]
    }
   ],
   "source": [
    "bucket = 0\n",
    "for v in rdnum:\n",
    "    bucket = bucket + v\n",
    "print ('Total is ', bucket)"
   ]
  },
  {
   "cell_type": "code",
   "execution_count": 53,
   "metadata": {},
   "outputs": [
    {
     "name": "stdout",
     "output_type": "stream",
     "text": [
      "[1, 2, 4, 8, 16, 32, 64, 128, 256, 512, 1024]\n"
     ]
    }
   ],
   "source": [
    "# Lab 4-1\n",
    "N = int(input())\n",
    "result = [0] * (N+1)\n",
    "pow = 1\n",
    "for i in range(N+1):\n",
    "    result[i] = pow\n",
    "    pow *= 2\n",
    "print (result)"
   ]
  },
  {
   "cell_type": "code",
   "execution_count": 60,
   "metadata": {},
   "outputs": [
    {
     "name": "stdout",
     "output_type": "stream",
     "text": [
      "15\n"
     ]
    }
   ],
   "source": [
    "#Lab 4-2\n",
    "total = 0\n",
    "for i in range(5):\n",
    "    num = int(input())\n",
    "    total += num \n",
    "print ( total)\n"
   ]
  },
  {
   "cell_type": "code",
   "execution_count": 64,
   "metadata": {},
   "outputs": [
    {
     "name": "stdout",
     "output_type": "stream",
     "text": [
      "1\n",
      "3\n",
      "6\n",
      "10\n",
      "15\n"
     ]
    }
   ],
   "source": [
    "# Lab 4-3 : same as 4-2, except while-loop\n",
    "i = 0; total = 0\n",
    "while(i<5):\n",
    "    num = int(input(0))\n",
    "    total += num \n",
    "    i += 1\n",
    "    print (total)"
   ]
  },
  {
   "cell_type": "code",
   "execution_count": 65,
   "metadata": {},
   "outputs": [
    {
     "name": "stdout",
     "output_type": "stream",
     "text": [
      "[1, 2, 3, 4, 5]\n",
      "15\n"
     ]
    }
   ],
   "source": [
    "#4-3\n",
    "numbers = [0] * 5\n",
    "total = 0\n",
    "for i in range(5):\n",
    "    numbers[i]= int(input()) \n",
    "print(numbers)   \n",
    "# total = sum(numbers)\n",
    "for v in numbers:\n",
    "    total += v\n",
    "    \n",
    "print(total)"
   ]
  },
  {
   "cell_type": "code",
   "execution_count": 67,
   "metadata": {},
   "outputs": [
    {
     "name": "stdout",
     "output_type": "stream",
     "text": [
      "invalid: Try again\n",
      "50\n"
     ]
    }
   ],
   "source": [
    "# lab 4-1\n",
    "# take a user input until it is valid (>0 <100). while loop\n",
    "\n",
    "# version 1\n",
    "num = int(input())\n",
    "while ( num <= 0 ) or (num >=100):\n",
    "    print('invalid: Try again')\n",
    "    num = int(input())   \n",
    "print (num)"
   ]
  },
  {
   "cell_type": "code",
   "execution_count": 71,
   "metadata": {},
   "outputs": [
    {
     "name": "stdout",
     "output_type": "stream",
     "text": [
      "invalid: Try again\n",
      "50\n"
     ]
    }
   ],
   "source": [
    "# Lab 4-1\n",
    "\n",
    "# version 2\n",
    "while True:\n",
    "    num = int(input())\n",
    "    if 0 < num < 100:\n",
    "     break\n",
    "    print('invalid: Try again')  \n",
    "print (num)"
   ]
  },
  {
   "cell_type": "code",
   "execution_count": 76,
   "metadata": {},
   "outputs": [
    {
     "name": "stdout",
     "output_type": "stream",
     "text": [
      "Value Error\n",
      "Value Error\n",
      "Value Error\n",
      "10\n"
     ]
    }
   ],
   "source": [
    "# Lab 4-2\n",
    "\n",
    "while True:\n",
    "    try:\n",
    "         number = int(input())\n",
    "    except ValueError:\n",
    "         print('Value Error')\n",
    "    else:\n",
    "        print(number)\n",
    "        break"
   ]
  },
  {
   "cell_type": "code",
   "execution_count": 73,
   "metadata": {},
   "outputs": [
    {
     "ename": "ValueError",
     "evalue": "invalid literal for int() with base 10: 'AAA'",
     "output_type": "error",
     "traceback": [
      "\u001b[0;31m---------------------------------------------------------------------------\u001b[0m",
      "\u001b[0;31mValueError\u001b[0m                                Traceback (most recent call last)",
      "Cell \u001b[0;32mIn[73], line 2\u001b[0m\n\u001b[1;32m      1\u001b[0m \u001b[38;5;66;03m# Lab 4-2 **\u001b[39;00m\n\u001b[0;32m----> 2\u001b[0m num \u001b[38;5;241m=\u001b[39m \u001b[38;5;28mint\u001b[39m(\u001b[38;5;28minput\u001b[39m())\n",
      "\u001b[0;31mValueError\u001b[0m: invalid literal for int() with base 10: 'AAA'"
     ]
    }
   ],
   "source": [
    "# Lab 4-2 **\n",
    "# tested with (AAA)\n",
    "num = int(input())"
   ]
  },
  {
   "cell_type": "code",
   "execution_count": 49,
   "metadata": {},
   "outputs": [
    {
     "data": {
      "text/plain": [
       "[98]"
      ]
     },
     "execution_count": 49,
     "metadata": {},
     "output_type": "execute_result"
    }
   ],
   "source": [
    "result = []\n",
    "result.append(98)\n",
    "result"
   ]
  },
  {
   "cell_type": "code",
   "execution_count": 51,
   "metadata": {},
   "outputs": [
    {
     "data": {
      "text/plain": [
       "[100, 0, 0, 0, 0, 0, 0, 0, 0, 0]"
      ]
     },
     "execution_count": 51,
     "metadata": {},
     "output_type": "execute_result"
    }
   ],
   "source": [
    "result = [0] * 10\n",
    "result[0] = 100\n",
    "result"
   ]
  },
  {
   "cell_type": "code",
   "execution_count": null,
   "metadata": {},
   "outputs": [],
   "source": []
  },
  {
   "cell_type": "code",
   "execution_count": null,
   "metadata": {},
   "outputs": [],
   "source": []
  },
  {
   "cell_type": "code",
   "execution_count": null,
   "metadata": {},
   "outputs": [],
   "source": []
  },
  {
   "cell_type": "code",
   "execution_count": null,
   "metadata": {},
   "outputs": [],
   "source": []
  },
  {
   "cell_type": "code",
   "execution_count": null,
   "metadata": {},
   "outputs": [],
   "source": []
  },
  {
   "cell_type": "code",
   "execution_count": null,
   "metadata": {},
   "outputs": [],
   "source": []
  }
 ],
 "metadata": {
  "kernelspec": {
   "display_name": "base",
   "language": "python",
   "name": "python3"
  },
  "language_info": {
   "codemirror_mode": {
    "name": "ipython",
    "version": 3
   },
   "file_extension": ".py",
   "mimetype": "text/x-python",
   "name": "python",
   "nbconvert_exporter": "python",
   "pygments_lexer": "ipython3",
   "version": "3.12.4"
  }
 },
 "nbformat": 4,
 "nbformat_minor": 2
}
